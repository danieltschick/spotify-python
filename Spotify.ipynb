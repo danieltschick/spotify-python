{
 "cells": [
  {
   "cell_type": "markdown",
   "metadata": {},
   "source": [
    "# 1. Extraindo dados do Spotify"
   ]
  },
  {
   "cell_type": "markdown",
   "metadata": {},
   "source": [
    "## a) Importando as bibliotecas\n",
    "\n",
    "Obs.: Spotipy é uma biblioteca desenvolvida para ler as APIs do Spotify (https://spotipy.readthedocs.io/en/latest/#)"
   ]
  },
  {
   "cell_type": "code",
   "execution_count": 1,
   "metadata": {},
   "outputs": [],
   "source": [
    "import pandas as pd\n",
    "import spotipy\n",
    "from spotipy.oauth2 import SpotifyClientCredentials\n",
    "import json\n",
    "from json.decoder import JSONDecodeError"
   ]
  },
  {
   "cell_type": "markdown",
   "metadata": {},
   "source": [
    "## b) informar seus IDs de developer Spotify"
   ]
  },
  {
   "cell_type": "code",
   "execution_count": 2,
   "metadata": {},
   "outputs": [],
   "source": [
    "cid = 'd779d6da93d24de4838434f87e14bba8' #client id\n",
    "sid = '9b4b3a170a3c405abe670bb74476931d' #secret id"
   ]
  },
  {
   "cell_type": "code",
   "execution_count": 3,
   "metadata": {},
   "outputs": [],
   "source": [
    "client_credentials_manager = SpotifyClientCredentials(client_id=cid, client_secret=sid)\n",
    "sp = spotipy.Spotify(client_credentials_manager = client_credentials_manager)"
   ]
  },
  {
   "cell_type": "markdown",
   "metadata": {},
   "source": [
    "## c) Buscar as faixas disponíveis no país escolhido por ano de lançamento\n",
    "Esta busca retornará as músicas, com seu ano de lançamento.\n",
    "\n",
    "A popularidade de cada faixa é um número de 0 a 100, sendo 100 mais popular e 0 menos popular.\n",
    "\n",
    "É a popularidade atual da faixa, de acordo com as execuções mais recentes dos usuários no Spotify.\n",
    "\n",
    "Como há um limite de 2000 faixas a cada chamada, optei por segregar por ano, assim consigo uma amostra muito maior. Como as faixas mais populares aparecem primeiro, e vou me concentrar nas faixas + populares, não é um problema não conseguir os dados totais, que devem ser bem mais numerosos. "
   ]
  },
  {
   "cell_type": "code",
   "execution_count": 4,
   "metadata": {},
   "outputs": [
    {
     "name": "stdout",
     "output_type": "stream",
     "text": [
      "1960\n",
      "1961\n",
      "1962\n",
      "1963\n",
      "1964\n",
      "1965\n",
      "1966\n",
      "1967\n",
      "1968\n",
      "1969\n",
      "1970\n",
      "1971\n",
      "1972\n",
      "1973\n",
      "1974\n",
      "1975\n",
      "1976\n",
      "1977\n",
      "1978\n",
      "1979\n",
      "1980\n",
      "1981\n",
      "1982\n",
      "1983\n",
      "1984\n",
      "1985\n",
      "1986\n",
      "1987\n",
      "1988\n",
      "1989\n",
      "1990\n",
      "1991\n",
      "1992\n",
      "1993\n",
      "1994\n",
      "1995\n",
      "1996\n",
      "1997\n",
      "1998\n",
      "1999\n",
      "2000\n",
      "2001\n",
      "2002\n",
      "2003\n",
      "2004\n",
      "2005\n",
      "2006\n",
      "2007\n",
      "2008\n",
      "2009\n",
      "2010\n",
      "2011\n",
      "2012\n",
      "2013\n",
      "2014\n",
      "2015\n",
      "2016\n",
      "2017\n",
      "2018\n",
      "2019\n",
      "2020\n"
     ]
    }
   ],
   "source": [
    "# Criar listas para guardar os dados\n",
    "artist_name = []\n",
    "track_name = []\n",
    "track_id = []\n",
    "track_preview_url = []\n",
    "track_popularity = []\n",
    "track_year = []\n",
    "album = []\n",
    "album_art = []\n",
    "duration_ms = []\n",
    "release_date = []\n",
    "\n",
    "# Percorrer os anos de 1960 até 2020\n",
    "initial_year = 1960\n",
    "final_year = 2020\n",
    "\n",
    "market_country = 'DE'\n",
    "\n",
    "for ano in range(initial_year, (final_year+1)):\n",
    "    print(ano)\n",
    "    for i in range(0,2000,50):\n",
    "        track_results = sp.search(q='year:{}'.format(ano), type='track', limit=50,offset=i, market=market_country)\n",
    "        for i, t in enumerate(track_results['tracks']['items']):\n",
    "            artist_name.append(t['artists'][0]['name'])\n",
    "            track_name.append(t['name'])\n",
    "            track_id.append(t['id'])\n",
    "            track_preview_url.append(t['preview_url'])\n",
    "            track_popularity.append(t['popularity'])\n",
    "            track_year.append(ano)\n",
    "            album.append(t['album']['name'])\n",
    "            try:\n",
    "                album_art.append(t['album']['images'][1]['url']) #há 3 figuras. A primeira c/ maior resolucao, peguei a primeira.\n",
    "            except Exception:\n",
    "                album_art.append('not found')\n",
    "            duration_ms.append(t['duration_ms'])\n",
    "            release_date.append(t['album']['release_date'])\n"
   ]
  },
  {
   "cell_type": "markdown",
   "metadata": {},
   "source": [
    "## d) Guardar os resultados em um DataFrame"
   ]
  },
  {
   "cell_type": "code",
   "execution_count": 5,
   "metadata": {},
   "outputs": [
    {
     "name": "stdout",
     "output_type": "stream",
     "text": [
      "(122000, 10)\n"
     ]
    }
   ],
   "source": [
    "pd.options.display.max_colwidth = 100\n",
    "\n",
    "track_dataframe = pd.DataFrame({'artist_name' : artist_name,\n",
    "                                'track_name' : track_name,\n",
    "                                'album' : album,\n",
    "                                'track_popularity' : track_popularity,\n",
    "                                'track_id' : track_id,\n",
    "                                'track_preview_url' : track_preview_url,\n",
    "                                'album_art' : album_art,\n",
    "                                'duration_ms' : duration_ms,\n",
    "                                'track_year' : track_year,\n",
    "                                'release_date' : release_date})\n",
    "\n",
    "print(track_dataframe.shape)\n"
   ]
  },
  {
   "cell_type": "markdown",
   "metadata": {},
   "source": [
    "## e) Eliminar eventuais músicas duplicadas"
   ]
  },
  {
   "cell_type": "code",
   "execution_count": 6,
   "metadata": {},
   "outputs": [
    {
     "name": "stdout",
     "output_type": "stream",
     "text": [
      "(121950, 10)\n"
     ]
    }
   ],
   "source": [
    "# eliminar track_id's duplicados\n",
    "track_dataframe = track_dataframe.drop_duplicates(subset=\"track_id\")\n",
    "print(track_dataframe.shape)"
   ]
  },
  {
   "cell_type": "markdown",
   "metadata": {},
   "source": [
    "## f) Salvar em um arquivo csv"
   ]
  },
  {
   "cell_type": "code",
   "execution_count": 7,
   "metadata": {},
   "outputs": [],
   "source": [
    "from datetime import date\n",
    "hoje = date.today().strftime(\"%Y-%m-%d\")\n",
    "\n",
    "track_dataframe.to_csv(\"spotify_tracks_{}_{}.csv\".format(hoje, market_country), quotechar='\"', escapechar='\"')"
   ]
  },
  {
   "cell_type": "code",
   "execution_count": 8,
   "metadata": {},
   "outputs": [
    {
     "data": {
      "text/html": [
       "<div>\n",
       "<style scoped>\n",
       "    .dataframe tbody tr th:only-of-type {\n",
       "        vertical-align: middle;\n",
       "    }\n",
       "\n",
       "    .dataframe tbody tr th {\n",
       "        vertical-align: top;\n",
       "    }\n",
       "\n",
       "    .dataframe thead th {\n",
       "        text-align: right;\n",
       "    }\n",
       "</style>\n",
       "<table border=\"1\" class=\"dataframe\">\n",
       "  <thead>\n",
       "    <tr style=\"text-align: right;\">\n",
       "      <th></th>\n",
       "      <th>artist_name</th>\n",
       "      <th>track_name</th>\n",
       "      <th>album</th>\n",
       "      <th>track_popularity</th>\n",
       "      <th>track_id</th>\n",
       "      <th>track_preview_url</th>\n",
       "      <th>album_art</th>\n",
       "      <th>duration_ms</th>\n",
       "      <th>track_year</th>\n",
       "      <th>release_date</th>\n",
       "    </tr>\n",
       "  </thead>\n",
       "  <tbody>\n",
       "    <tr>\n",
       "      <td>67777</td>\n",
       "      <td>No Sports</td>\n",
       "      <td>King Kong</td>\n",
       "      <td>King Ska</td>\n",
       "      <td>22</td>\n",
       "      <td>15BssM3kUIOzBGjvYe94Sm</td>\n",
       "      <td>https://p.scdn.co/mp3-preview/9dd0c7a192b30d7d006cc8870958425fd5413744?cid=d779d6da93d24de483843...</td>\n",
       "      <td>https://i.scdn.co/image/ab67616d00001e02e427fae7daf80e36b53ef24d</td>\n",
       "      <td>312133</td>\n",
       "      <td>1993</td>\n",
       "      <td>1993</td>\n",
       "    </tr>\n",
       "    <tr>\n",
       "      <td>46714</td>\n",
       "      <td>Bibi Blocksberg</td>\n",
       "      <td>Bibi Blocksberg Lied</td>\n",
       "      <td>Folge 9: verliebt sich</td>\n",
       "      <td>29</td>\n",
       "      <td>4EnEwBUmSJGOCAdHGUiH58</td>\n",
       "      <td>https://p.scdn.co/mp3-preview/ca0e2ff768fbfbc501018091bfb6ac213fbb21e3?cid=d779d6da93d24de483843...</td>\n",
       "      <td>https://i.scdn.co/image/ab67616d00001e026fffb9a579b1ea6499bf7d2f</td>\n",
       "      <td>88873</td>\n",
       "      <td>1983</td>\n",
       "      <td>1983-01-01</td>\n",
       "    </tr>\n",
       "    <tr>\n",
       "      <td>71141</td>\n",
       "      <td>Pulp</td>\n",
       "      <td>Mile End</td>\n",
       "      <td>Different Class / Deluxe Edition</td>\n",
       "      <td>49</td>\n",
       "      <td>3DYnqG3jqB1bijSKsJzuzG</td>\n",
       "      <td>None</td>\n",
       "      <td>https://i.scdn.co/image/ab67616d00001e0232b1955183a7fbe0058735fc</td>\n",
       "      <td>270800</td>\n",
       "      <td>1995</td>\n",
       "      <td>1995-10-30</td>\n",
       "    </tr>\n",
       "    <tr>\n",
       "      <td>83110</td>\n",
       "      <td>André Rieu</td>\n",
       "      <td>Cavalleria Rusticana: Intermezzo Sinfonico</td>\n",
       "      <td>Dreaming</td>\n",
       "      <td>52</td>\n",
       "      <td>3ILnOG0UZAtf2AtxiJ3vzT</td>\n",
       "      <td>None</td>\n",
       "      <td>https://i.scdn.co/image/ab67616d00001e0243b2cd2f6c8a9fb74aa0a950</td>\n",
       "      <td>207093</td>\n",
       "      <td>2001</td>\n",
       "      <td>2001-01-01</td>\n",
       "    </tr>\n",
       "    <tr>\n",
       "      <td>104561</td>\n",
       "      <td>Die drei ???</td>\n",
       "      <td>Der 5. Advent: 13. Dezember (13 von 24) - Teil 02</td>\n",
       "      <td>Der 5. Advent</td>\n",
       "      <td>44</td>\n",
       "      <td>2jkoLaE1KWuvOcMKqfOXfp</td>\n",
       "      <td>https://p.scdn.co/mp3-preview/93e609622cb4723f9fd790dc9692f72001410a4e?cid=d779d6da93d24de483843...</td>\n",
       "      <td>https://i.scdn.co/image/ab67616d00001e025aca6ab743013c0e7539ce06</td>\n",
       "      <td>102160</td>\n",
       "      <td>2012</td>\n",
       "      <td>2012-12-01</td>\n",
       "    </tr>\n",
       "  </tbody>\n",
       "</table>\n",
       "</div>"
      ],
      "text/plain": [
       "            artist_name                                         track_name  \\\n",
       "67777         No Sports                                          King Kong   \n",
       "46714   Bibi Blocksberg                               Bibi Blocksberg Lied   \n",
       "71141              Pulp                                           Mile End   \n",
       "83110        André Rieu         Cavalleria Rusticana: Intermezzo Sinfonico   \n",
       "104561     Die drei ???  Der 5. Advent: 13. Dezember (13 von 24) - Teil 02   \n",
       "\n",
       "                                   album  track_popularity  \\\n",
       "67777                           King Ska                22   \n",
       "46714             Folge 9: verliebt sich                29   \n",
       "71141   Different Class / Deluxe Edition                49   \n",
       "83110                           Dreaming                52   \n",
       "104561                     Der 5. Advent                44   \n",
       "\n",
       "                      track_id  \\\n",
       "67777   15BssM3kUIOzBGjvYe94Sm   \n",
       "46714   4EnEwBUmSJGOCAdHGUiH58   \n",
       "71141   3DYnqG3jqB1bijSKsJzuzG   \n",
       "83110   3ILnOG0UZAtf2AtxiJ3vzT   \n",
       "104561  2jkoLaE1KWuvOcMKqfOXfp   \n",
       "\n",
       "                                                                                          track_preview_url  \\\n",
       "67777   https://p.scdn.co/mp3-preview/9dd0c7a192b30d7d006cc8870958425fd5413744?cid=d779d6da93d24de483843...   \n",
       "46714   https://p.scdn.co/mp3-preview/ca0e2ff768fbfbc501018091bfb6ac213fbb21e3?cid=d779d6da93d24de483843...   \n",
       "71141                                                                                                  None   \n",
       "83110                                                                                                  None   \n",
       "104561  https://p.scdn.co/mp3-preview/93e609622cb4723f9fd790dc9692f72001410a4e?cid=d779d6da93d24de483843...   \n",
       "\n",
       "                                                               album_art  \\\n",
       "67777   https://i.scdn.co/image/ab67616d00001e02e427fae7daf80e36b53ef24d   \n",
       "46714   https://i.scdn.co/image/ab67616d00001e026fffb9a579b1ea6499bf7d2f   \n",
       "71141   https://i.scdn.co/image/ab67616d00001e0232b1955183a7fbe0058735fc   \n",
       "83110   https://i.scdn.co/image/ab67616d00001e0243b2cd2f6c8a9fb74aa0a950   \n",
       "104561  https://i.scdn.co/image/ab67616d00001e025aca6ab743013c0e7539ce06   \n",
       "\n",
       "        duration_ms  track_year release_date  \n",
       "67777        312133        1993         1993  \n",
       "46714         88873        1983   1983-01-01  \n",
       "71141        270800        1995   1995-10-30  \n",
       "83110        207093        2001   2001-01-01  \n",
       "104561       102160        2012   2012-12-01  "
      ]
     },
     "execution_count": 8,
     "metadata": {},
     "output_type": "execute_result"
    }
   ],
   "source": [
    "track_dataframe.sample(5)"
   ]
  }
 ],
 "metadata": {
  "kernelspec": {
   "display_name": "Python 3",
   "language": "python",
   "name": "python3"
  },
  "language_info": {
   "codemirror_mode": {
    "name": "ipython",
    "version": 3
   },
   "file_extension": ".py",
   "mimetype": "text/x-python",
   "name": "python",
   "nbconvert_exporter": "python",
   "pygments_lexer": "ipython3",
   "version": "3.7.4"
  }
 },
 "nbformat": 4,
 "nbformat_minor": 4
}
