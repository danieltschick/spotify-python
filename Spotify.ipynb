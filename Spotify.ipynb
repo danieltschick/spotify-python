{
 "cells": [
  {
   "cell_type": "markdown",
   "metadata": {},
   "source": [
    "# 1. Extraindo dados do Spotify"
   ]
  },
  {
   "cell_type": "markdown",
   "metadata": {},
   "source": [
    "## a) Importando as bibliotecas\n",
    "\n",
    "Obs.: Spotipy é uma biblioteca desenvolvida para ler as APIs do Spotify (https://spotipy.readthedocs.io/en/latest/#)"
   ]
  },
  {
   "cell_type": "code",
   "execution_count": 1,
   "metadata": {},
   "outputs": [],
   "source": [
    "import pandas as pd\n",
    "import spotipy\n",
    "from spotipy.oauth2 import SpotifyClientCredentials\n",
    "import json\n",
    "from json.decoder import JSONDecodeError"
   ]
  },
  {
   "cell_type": "markdown",
   "metadata": {},
   "source": [
    "## b) informar seus IDs de developer Spotify"
   ]
  },
  {
   "cell_type": "code",
   "execution_count": 2,
   "metadata": {},
   "outputs": [],
   "source": [
    "cid = 'seu_client_id' #client id\n",
    "sid = 'seu_secret_id' #secret id"
   ]
  },
  {
   "cell_type": "code",
   "execution_count": 3,
   "metadata": {},
   "outputs": [],
   "source": [
    "client_credentials_manager = SpotifyClientCredentials(client_id=cid, client_secret=sid)\n",
    "sp = spotipy.Spotify(client_credentials_manager = client_credentials_manager)"
   ]
  },
  {
   "cell_type": "markdown",
   "metadata": {},
   "source": [
    "## c) Buscar as faixas disponíveis no Brasil por ano de lançamento\n",
    "Esta busca retornará as músicas, com seu ano de lançamento.\n",
    "\n",
    "A popularidade de cada faixa é um número de 0 a 100, sendo 100 mais popular e 0 menos popular.\n",
    "\n",
    "É a popularidade atual da faixa, de acordo com as execuções mais recentes dos usuários no Spotify.\n",
    "\n",
    "Como há um limite de 2000 faixas a cada chamada, optei por segregar por ano, assim consigo uma amostra muito maior. Como as faixas mais populares aparecem primeiro, e posteriormente vou me concentrar nas faixas + populares, não é um problema não conseguir os dados totais, que devem ser bem mais numerosos. "
   ]
  },
  {
   "cell_type": "code",
   "execution_count": 4,
   "metadata": {},
   "outputs": [
    {
     "name": "stdout",
     "output_type": "stream",
     "text": [
      "1960\n",
      "1961\n",
      "1962\n",
      "1963\n",
      "1964\n",
      "1965\n",
      "1966\n",
      "1967\n",
      "1968\n",
      "1969\n",
      "1970\n",
      "1971\n",
      "1972\n",
      "1973\n",
      "1974\n",
      "1975\n",
      "1976\n",
      "1977\n",
      "1978\n",
      "1979\n",
      "1980\n",
      "1981\n",
      "1982\n",
      "1983\n",
      "1984\n",
      "1985\n",
      "1986\n",
      "1987\n",
      "1988\n",
      "1989\n",
      "1990\n",
      "1991\n",
      "1992\n",
      "1993\n",
      "1994\n",
      "1995\n",
      "1996\n",
      "1997\n",
      "1998\n",
      "1999\n",
      "2000\n",
      "2001\n",
      "2002\n",
      "2003\n",
      "2004\n",
      "2005\n",
      "2006\n",
      "2007\n",
      "2008\n",
      "2009\n",
      "2010\n",
      "2011\n",
      "2012\n",
      "2013\n",
      "2014\n",
      "2015\n",
      "2016\n",
      "2017\n",
      "2018\n",
      "2019\n",
      "2020\n",
      "2021\n"
     ]
    }
   ],
   "source": [
    "# Criar listas para guardar os dados\n",
    "artist_name = []\n",
    "track_name = []\n",
    "track_id = []\n",
    "track_preview_url = []\n",
    "track_popularity = []\n",
    "track_year = []\n",
    "album = []\n",
    "album_art = []\n",
    "duration_ms = []\n",
    "release_date = []\n",
    "\n",
    "# Percorrer os anos de 1960 até 2021\n",
    "initial_year = 1960\n",
    "final_year = 2021\n",
    "\n",
    "for ano in range(initial_year, (final_year+1)):\n",
    "    print(ano)\n",
    "    for i in range(0,2000,50):\n",
    "        track_results = sp.search(q='year:{}'.format(ano), type='track', limit=50,offset=i, market='BR')\n",
    "        for i, t in enumerate(track_results['tracks']['items']):\n",
    "            artist_name.append(t['artists'][0]['name'])\n",
    "            track_name.append(t['name'])\n",
    "            track_id.append(t['id'])\n",
    "            track_preview_url.append(t['preview_url'])\n",
    "            track_popularity.append(t['popularity'])\n",
    "            track_year.append(ano)\n",
    "            album.append(t['album']['name'])\n",
    "            try:\n",
    "                album_art.append(t['album']['images'][1]['url']) #há 3 figuras. A primeira c/ maior resolucao, peguei a primeira.\n",
    "            except Exception:\n",
    "                album_art.append('not found')\n",
    "            duration_ms.append(t['duration_ms'])\n",
    "            release_date.append(t['album']['release_date'])\n"
   ]
  },
  {
   "cell_type": "markdown",
   "metadata": {},
   "source": [
    "## d) Guardar os resultados em um DataFrame"
   ]
  },
  {
   "cell_type": "code",
   "execution_count": 6,
   "metadata": {},
   "outputs": [
    {
     "name": "stdout",
     "output_type": "stream",
     "text": [
      "(122200, 10)\n"
     ]
    }
   ],
   "source": [
    "pd.options.display.max_colwidth = 100\n",
    "\n",
    "track_dataframe = pd.DataFrame({'artist_name' : artist_name,\n",
    "                                'track_name' : track_name,\n",
    "                                'album' : album,\n",
    "                                'track_popularity' : track_popularity,\n",
    "                                'track_id' : track_id,\n",
    "                                'track_preview_url' : track_preview_url,\n",
    "                                'album_art' : album_art,\n",
    "                                'duration_ms' : duration_ms,\n",
    "                                'track_year' : track_year,\n",
    "                                'release_date' : release_date})\n",
    "\n",
    "print(track_dataframe.shape)\n"
   ]
  },
  {
   "cell_type": "markdown",
   "metadata": {},
   "source": [
    "## e) Eliminar eventuais músicas duplicadas"
   ]
  },
  {
   "cell_type": "code",
   "execution_count": 7,
   "metadata": {},
   "outputs": [
    {
     "name": "stdout",
     "output_type": "stream",
     "text": [
      "(122200, 10)\n"
     ]
    }
   ],
   "source": [
    "# eliminar track_id's duplicados\n",
    "track_dataframe = track_dataframe.drop_duplicates(subset=\"track_id\")\n",
    "print(track_dataframe.shape)"
   ]
  },
  {
   "cell_type": "markdown",
   "metadata": {},
   "source": [
    "## f) Salvar em um arquivo csv"
   ]
  },
  {
   "cell_type": "code",
   "execution_count": 8,
   "metadata": {},
   "outputs": [],
   "source": [
    "from datetime import date\n",
    "hoje = date.today().strftime(\"%Y-%m-%d\")\n",
    "\n",
    "track_dataframe.to_csv(\"spotify_tracks_{}.csv\".format(hoje), quotechar='\"', escapechar='\"')"
   ]
  },
  {
   "cell_type": "code",
   "execution_count": 9,
   "metadata": {},
   "outputs": [
    {
     "data": {
      "text/html": [
       "<div>\n",
       "<style scoped>\n",
       "    .dataframe tbody tr th:only-of-type {\n",
       "        vertical-align: middle;\n",
       "    }\n",
       "\n",
       "    .dataframe tbody tr th {\n",
       "        vertical-align: top;\n",
       "    }\n",
       "\n",
       "    .dataframe thead th {\n",
       "        text-align: right;\n",
       "    }\n",
       "</style>\n",
       "<table border=\"1\" class=\"dataframe\">\n",
       "  <thead>\n",
       "    <tr style=\"text-align: right;\">\n",
       "      <th></th>\n",
       "      <th>artist_name</th>\n",
       "      <th>track_name</th>\n",
       "      <th>album</th>\n",
       "      <th>track_popularity</th>\n",
       "      <th>track_id</th>\n",
       "      <th>track_preview_url</th>\n",
       "      <th>album_art</th>\n",
       "      <th>duration_ms</th>\n",
       "      <th>track_year</th>\n",
       "      <th>release_date</th>\n",
       "    </tr>\n",
       "  </thead>\n",
       "  <tbody>\n",
       "    <tr>\n",
       "      <td>67039</td>\n",
       "      <td>Milton Banana Trio</td>\n",
       "      <td>Flor de Lis</td>\n",
       "      <td>Sambas De Bossa</td>\n",
       "      <td>21</td>\n",
       "      <td>6jx9BuEQdv5YQIw94lbnJ9</td>\n",
       "      <td>https://p.scdn.co/mp3-preview/c5cbf3aba736ac46164b019e1dd35eb1c2a1ae3d?cid=d779d6da93d24de483843...</td>\n",
       "      <td>https://i.scdn.co/image/ab67616d00001e028cf384d2538a93c6b77332c7</td>\n",
       "      <td>219773</td>\n",
       "      <td>1993</td>\n",
       "      <td>1993-07-15</td>\n",
       "    </tr>\n",
       "    <tr>\n",
       "      <td>26316</td>\n",
       "      <td>Vieira &amp; Vieirinha</td>\n",
       "      <td>Peão De Boiadeiro</td>\n",
       "      <td>Peão De Boiadeiro</td>\n",
       "      <td>27</td>\n",
       "      <td>76vMPuNcYwOOiuXu8AdsOb</td>\n",
       "      <td>None</td>\n",
       "      <td>https://i.scdn.co/image/ab67616d00001e02071cd9e424f784c20320ab17</td>\n",
       "      <td>176866</td>\n",
       "      <td>1973</td>\n",
       "      <td>1973-02-01</td>\n",
       "    </tr>\n",
       "    <tr>\n",
       "      <td>35904</td>\n",
       "      <td>Anna Jantar</td>\n",
       "      <td>Jak w taki dzień deszczowy</td>\n",
       "      <td>Zawsze gdzieś czeka ktoś</td>\n",
       "      <td>22</td>\n",
       "      <td>6jqMisUjaOX9labGSDO4ev</td>\n",
       "      <td>https://p.scdn.co/mp3-preview/13732ef50e9afff43c4a908abf48b313be870acd?cid=d779d6da93d24de483843...</td>\n",
       "      <td>https://i.scdn.co/image/ab67616d00001e02f0bd466ef8ce5cd8f4921572</td>\n",
       "      <td>182360</td>\n",
       "      <td>1977</td>\n",
       "      <td>1977-02-12</td>\n",
       "    </tr>\n",
       "    <tr>\n",
       "      <td>69087</td>\n",
       "      <td>S. P. Balasubrahmanyam</td>\n",
       "      <td>Andhama Andhama</td>\n",
       "      <td>Govinda Govinda</td>\n",
       "      <td>38</td>\n",
       "      <td>6wfvttks8elZeW0h1IeAfp</td>\n",
       "      <td>https://p.scdn.co/mp3-preview/315260d713bf1a7f349b71e3ec590510aaa18518?cid=d779d6da93d24de483843...</td>\n",
       "      <td>https://i.scdn.co/image/ab67616d00001e0286087138af5e98d1b46ee071</td>\n",
       "      <td>320266</td>\n",
       "      <td>1994</td>\n",
       "      <td>1994-01-21</td>\n",
       "    </tr>\n",
       "    <tr>\n",
       "      <td>90688</td>\n",
       "      <td>Eduardo Costa</td>\n",
       "      <td>Página de Amígps</td>\n",
       "      <td>No Boteco</td>\n",
       "      <td>36</td>\n",
       "      <td>2UTJXcdSuX89pu94GSuRz9</td>\n",
       "      <td>https://p.scdn.co/mp3-preview/ed1db98aaaee8c5189277a78ff27b0ffb933bce0?cid=d779d6da93d24de483843...</td>\n",
       "      <td>https://i.scdn.co/image/ab67616d00001e020f83a80f377edc695147b5b5</td>\n",
       "      <td>203476</td>\n",
       "      <td>2005</td>\n",
       "      <td>2005</td>\n",
       "    </tr>\n",
       "  </tbody>\n",
       "</table>\n",
       "</div>"
      ],
      "text/plain": [
       "                  artist_name                  track_name  \\\n",
       "67039      Milton Banana Trio                 Flor de Lis   \n",
       "26316      Vieira & Vieirinha           Peão De Boiadeiro   \n",
       "35904             Anna Jantar  Jak w taki dzień deszczowy   \n",
       "69087  S. P. Balasubrahmanyam             Andhama Andhama   \n",
       "90688           Eduardo Costa            Página de Amígps   \n",
       "\n",
       "                          album  track_popularity                track_id  \\\n",
       "67039           Sambas De Bossa                21  6jx9BuEQdv5YQIw94lbnJ9   \n",
       "26316         Peão De Boiadeiro                27  76vMPuNcYwOOiuXu8AdsOb   \n",
       "35904  Zawsze gdzieś czeka ktoś                22  6jqMisUjaOX9labGSDO4ev   \n",
       "69087           Govinda Govinda                38  6wfvttks8elZeW0h1IeAfp   \n",
       "90688                 No Boteco                36  2UTJXcdSuX89pu94GSuRz9   \n",
       "\n",
       "                                                                                         track_preview_url  \\\n",
       "67039  https://p.scdn.co/mp3-preview/c5cbf3aba736ac46164b019e1dd35eb1c2a1ae3d?cid=d779d6da93d24de483843...   \n",
       "26316                                                                                                 None   \n",
       "35904  https://p.scdn.co/mp3-preview/13732ef50e9afff43c4a908abf48b313be870acd?cid=d779d6da93d24de483843...   \n",
       "69087  https://p.scdn.co/mp3-preview/315260d713bf1a7f349b71e3ec590510aaa18518?cid=d779d6da93d24de483843...   \n",
       "90688  https://p.scdn.co/mp3-preview/ed1db98aaaee8c5189277a78ff27b0ffb933bce0?cid=d779d6da93d24de483843...   \n",
       "\n",
       "                                                              album_art  \\\n",
       "67039  https://i.scdn.co/image/ab67616d00001e028cf384d2538a93c6b77332c7   \n",
       "26316  https://i.scdn.co/image/ab67616d00001e02071cd9e424f784c20320ab17   \n",
       "35904  https://i.scdn.co/image/ab67616d00001e02f0bd466ef8ce5cd8f4921572   \n",
       "69087  https://i.scdn.co/image/ab67616d00001e0286087138af5e98d1b46ee071   \n",
       "90688  https://i.scdn.co/image/ab67616d00001e020f83a80f377edc695147b5b5   \n",
       "\n",
       "       duration_ms  track_year release_date  \n",
       "67039       219773        1993   1993-07-15  \n",
       "26316       176866        1973   1973-02-01  \n",
       "35904       182360        1977   1977-02-12  \n",
       "69087       320266        1994   1994-01-21  \n",
       "90688       203476        2005         2005  "
      ]
     },
     "execution_count": 9,
     "metadata": {},
     "output_type": "execute_result"
    }
   ],
   "source": [
    "track_dataframe.sample(5)"
   ]
  }
 ],
 "metadata": {
  "kernelspec": {
   "display_name": "Python 3",
   "language": "python",
   "name": "python3"
  },
  "language_info": {
   "codemirror_mode": {
    "name": "ipython",
    "version": 3
   },
   "file_extension": ".py",
   "mimetype": "text/x-python",
   "name": "python",
   "nbconvert_exporter": "python",
   "pygments_lexer": "ipython3",
   "version": "3.7.4"
  }
 },
 "nbformat": 4,
 "nbformat_minor": 4
}
